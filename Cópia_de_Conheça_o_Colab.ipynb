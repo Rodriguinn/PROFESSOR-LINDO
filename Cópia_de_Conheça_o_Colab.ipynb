{
  "cells": [
    {
      "cell_type": "markdown",
      "source": [
        "# Nova seção"
      ],
      "metadata": {
        "id": "52WRv8WEz405"
      }
    },
    {
      "cell_type": "code",
      "source": [
        "# Questao 1\n",
        "num1 = int(input(\"Digite o primeiro número: \"))\n",
        "num2 = int(input(\"Digite o segundo número: \"))\n",
        "num3 = int(input(\"Digite o terceiro número: \"))\n",
        "numeros = [num1, num2, num3]\n",
        "numeros.sort()  # ordena a lista em ordem crescente\n",
        "print(\"Números em ordem crescente:\", numeros[0], numeros[1], numeros[2])"
      ],
      "metadata": {
        "id": "aLLWxQaL0HLP",
        "outputId": "443954fa-6701-45f3-b9ee-5c0c990120ca",
        "colab": {
          "base_uri": "https://localhost:8080/"
        }
      },
      "execution_count": null,
      "outputs": [
        {
          "output_type": "stream",
          "name": "stdout",
          "text": [
            "Digite o primeiro número: 50\n",
            "Digite o segundo número: 34\n",
            "Digite o terceiro número: 21\n",
            "Números em ordem crescente: 21 34 50\n"
          ]
        }
      ]
    },
    {
      "cell_type": "code",
      "source": [
        "# Questao 2\n",
        "for i in range(100):\n",
        "    print(i)"
      ],
      "metadata": {
        "id": "UEmGOh4g0THP",
        "outputId": "a49d1f08-c657-403b-e48c-0802c04443db",
        "colab": {
          "base_uri": "https://localhost:8080/"
        }
      },
      "execution_count": null,
      "outputs": [
        {
          "output_type": "stream",
          "name": "stdout",
          "text": [
            "0\n",
            "1\n",
            "2\n",
            "3\n",
            "4\n",
            "5\n",
            "6\n",
            "7\n",
            "8\n",
            "9\n",
            "10\n",
            "11\n",
            "12\n",
            "13\n",
            "14\n",
            "15\n",
            "16\n",
            "17\n",
            "18\n",
            "19\n",
            "20\n",
            "21\n",
            "22\n",
            "23\n",
            "24\n",
            "25\n",
            "26\n",
            "27\n",
            "28\n",
            "29\n",
            "30\n",
            "31\n",
            "32\n",
            "33\n",
            "34\n",
            "35\n",
            "36\n",
            "37\n",
            "38\n",
            "39\n",
            "40\n",
            "41\n",
            "42\n",
            "43\n",
            "44\n",
            "45\n",
            "46\n",
            "47\n",
            "48\n",
            "49\n",
            "50\n",
            "51\n",
            "52\n",
            "53\n",
            "54\n",
            "55\n",
            "56\n",
            "57\n",
            "58\n",
            "59\n",
            "60\n",
            "61\n",
            "62\n",
            "63\n",
            "64\n",
            "65\n",
            "66\n",
            "67\n",
            "68\n",
            "69\n",
            "70\n",
            "71\n",
            "72\n",
            "73\n",
            "74\n",
            "75\n",
            "76\n",
            "77\n",
            "78\n",
            "79\n",
            "80\n",
            "81\n",
            "82\n",
            "83\n",
            "84\n",
            "85\n",
            "86\n",
            "87\n",
            "88\n",
            "89\n",
            "90\n",
            "91\n",
            "92\n",
            "93\n",
            "94\n",
            "95\n",
            "96\n",
            "97\n",
            "98\n",
            "99\n"
          ]
        }
      ]
    },
    {
      "cell_type": "code",
      "source": [
        "# Questao 3\n",
        "nome = input(\"Digite o nome do convidado: \")\n",
        "print(\"Seja muito bem-vindo\", nome)"
      ],
      "metadata": {
        "id": "kgioLOVC0rSi",
        "outputId": "7b45c757-1c1d-426b-e9e2-05849b95cbb9",
        "colab": {
          "base_uri": "https://localhost:8080/"
        }
      },
      "execution_count": null,
      "outputs": [
        {
          "output_type": "stream",
          "name": "stdout",
          "text": [
            "Digite o nome do convidado: JOAO GAY\n",
            "Seja muito bem-vindo JOAO GAY\n"
          ]
        }
      ]
    },
    {
      "cell_type": "code",
      "source": [
        "# Questao 4\n",
        "while True:\n",
        "    entrada = input(\"Digite um número (ou 'sair' para encerrar): \")\n",
        "\n",
        "    if entrada.lower() == \"sair\":\n",
        "        break\n",
        "\n",
        "    num = int(entrada)\n",
        "    eh_primo = True\n",
        "\n",
        "    if num < 2:\n",
        "        eh_primo = False\n",
        "    else:\n",
        "        for i in range(2, int(num ** 0.5) + 1):\n",
        "            if num % i == 0:\n",
        "                eh_primo = False\n",
        "                break\n",
        "\n",
        "    if eh_primo:\n",
        "        print(\"Número Primo\\n\")\n",
        "    else:\n",
        "        print(\"Número não é Primo\\n\")"
      ],
      "metadata": {
        "id": "zbEX3QdD0xa3",
        "outputId": "6f1f952c-e48d-4547-dca0-afb9dc9495ee",
        "colab": {
          "base_uri": "https://localhost:8080/"
        }
      },
      "execution_count": null,
      "outputs": [
        {
          "name": "stdout",
          "output_type": "stream",
          "text": [
            "Digite um número (ou 'sair' para encerrar): 11\n",
            "Número Primo\n",
            "\n",
            "Digite um número (ou 'sair' para encerrar): 24\n",
            "Número não é Primo\n",
            "\n",
            "Digite um número (ou 'sair' para encerrar): 32\n",
            "Número não é Primo\n",
            "\n",
            "Digite um número (ou 'sair' para encerrar): 1\n",
            "Número não é Primo\n",
            "\n",
            "Digite um número (ou 'sair' para encerrar): sair\n"
          ]
        }
      ]
    },
    {
      "cell_type": "code",
      "source": [
        "  # Questao 5\n",
        "n = int(input())\n",
        "notas = [float(input()) for _ in range(n)]\n",
        "media = sum(notas) / n\n",
        "limite_superior = media * 1.10\n",
        "limite_inferior = media * 0.90\n",
        "acima_10 = sum(1 for nota in notas if nota > limite_superior)\n",
        "abaixo_10 = sum(1 for nota in notas if nota < limite_inferior)\n",
        "print(f\"{media:.2f}\")\n",
        "print(acima_10)\n",
        "print(abaixo_10)\n"
      ],
      "metadata": {
        "id": "hy1dxjIl04NT",
        "outputId": "b3b0ebec-4e05-4ba9-e07a-23d542cd8239",
        "colab": {
          "base_uri": "https://localhost:8080/"
        }
      },
      "execution_count": null,
      "outputs": [
        {
          "output_type": "stream",
          "name": "stdout",
          "text": [
            "4\n",
            "5\n",
            "32\n",
            "53\n",
            "24\n",
            "28.50\n",
            "2\n",
            "2\n"
          ]
        }
      ]
    },
    {
      "cell_type": "code",
      "source": [
        "# Questao 6\n",
        "texto = input()\n",
        "invertido = texto[::-1]\n",
        "print(invertido)"
      ],
      "metadata": {
        "id": "Jbywan8E1Eud",
        "outputId": "4acbd1df-f098-4946-8f7c-04b6ddd2e831",
        "colab": {
          "base_uri": "https://localhost:8080/"
        }
      },
      "execution_count": null,
      "outputs": [
        {
          "output_type": "stream",
          "name": "stdout",
          "text": [
            "rodrigo do geras\n",
            "sareg od ogirdor\n"
          ]
        }
      ]
    },
    {
      "cell_type": "code",
      "source": [
        "# questao 7\n",
        "texto = input()\n",
        "char1 = input()\n",
        "char2 = input()\n",
        "\n",
        "resultado = texto.replace(char1, char2)\n",
        "if len(char1) == 1:\n",
        "  print(resultado)"
      ],
      "metadata": {
        "id": "VzuozRxB1N1D",
        "colab": {
          "base_uri": "https://localhost:8080/"
        },
        "outputId": "8903b022-1ad9-4dd8-a34f-a033a0d8393b"
      },
      "execution_count": 25,
      "outputs": [
        {
          "output_type": "stream",
          "name": "stdout",
          "text": [
            "maracatu\n",
            "a\n",
            "o\n",
            "morocotu\n"
          ]
        }
      ]
    },
    {
      "cell_type": "code",
      "source": [
        "# Questao 8\n",
        "texto = input().strip()\n",
        "caractere = input().strip()\n",
        "if len(caractere) != 1:\n",
        "    print(-1)\n",
        "else:\n",
        "    indice = texto.find(caractere)\n",
        "    print(indice)"
      ],
      "metadata": {
        "id": "9h6BJBH11e-a",
        "outputId": "6d5c7404-cb07-4046-d85c-de6328c7bdca",
        "colab": {
          "base_uri": "https://localhost:8080/"
        }
      },
      "execution_count": null,
      "outputs": [
        {
          "output_type": "stream",
          "name": "stdout",
          "text": [
            "Morango\n",
            "0\n",
            "-1\n"
          ]
        }
      ]
    },
    {
      "cell_type": "code",
      "source": [
        "# Questao 9\n",
        "x = int(input())\n",
        "y = int(input())\n",
        "if x > y:\n",
        "    x, y = y, x\n",
        "for i in range(x + 1, y):\n",
        "    if i % 5 == 2 or i % 5 == 3:\n",
        "        print(i)"
      ],
      "metadata": {
        "id": "aO3WP9Mc1ryt",
        "colab": {
          "base_uri": "https://localhost:8080/"
        },
        "outputId": "67147222-3b84-49b3-a093-94a1c88ffe72"
      },
      "execution_count": 22,
      "outputs": [
        {
          "output_type": "stream",
          "name": "stdout",
          "text": [
            "55\n",
            "67\n",
            "57\n",
            "58\n",
            "62\n",
            "63\n"
          ]
        }
      ]
    },
    {
      "cell_type": "code",
      "source": [
        "24# Questao 10 -A\n",
        "n = int(input())\n",
        "numeros = []\n",
        "for _ in range(n):\n",
        "    numero = int(input())\n",
        "    numeros.append(numero)\n",
        "for num in reversed(numeros):\n",
        "    print(num)"
      ],
      "metadata": {
        "id": "mNLStdm116mZ",
        "outputId": "85f148d8-1b86-4ae0-fab1-e5a32a989aed",
        "colab": {
          "base_uri": "https://localhost:8080/"
        }
      },
      "execution_count": 26,
      "outputs": [
        {
          "output_type": "stream",
          "name": "stdout",
          "text": [
            "4\n",
            "3\n",
            "4\n",
            "3\n",
            "2\n",
            "2\n",
            "3\n",
            "4\n",
            "3\n"
          ]
        }
      ]
    },
    {
      "cell_type": "code",
      "source": [
        "# Questao 10 -B\n",
        "n = int(input())\n",
        "numeros = []\n",
        "for _ in range(n):\n",
        "    numero = int(input())\n",
        "    numeros.append(numero)\n",
        "numeros.sort(reverse=True)\n",
        "for num in numeros:\n",
        "    print(num)\n"
      ],
      "metadata": {
        "id": "WHBqLeAM2UfE",
        "outputId": "95aaa2fb-d5d7-4184-f221-706e2baf41d6",
        "colab": {
          "base_uri": "https://localhost:8080/"
        }
      },
      "execution_count": null,
      "outputs": [
        {
          "output_type": "stream",
          "name": "stdout",
          "text": [
            "5\n",
            "10\n",
            "50\n",
            "20\n",
            "30\n",
            "40\n",
            "50\n",
            "40\n",
            "30\n",
            "20\n",
            "10\n"
          ]
        }
      ]
    }
  ],
  "metadata": {
    "colab": {
      "toc_visible": true,
      "provenance": []
    },
    "kernelspec": {
      "display_name": "Python 3",
      "name": "python3"
    }
  },
  "nbformat": 4,
  "nbformat_minor": 0
}